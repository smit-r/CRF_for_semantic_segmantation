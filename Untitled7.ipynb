{
  "nbformat": 4,
  "nbformat_minor": 0,
  "metadata": {
    "colab": {
      "name": "Untitled7.ipynb",
      "provenance": [],
      "authorship_tag": "ABX9TyO84ybaoH3frI3gLGBGaNFR",
      "include_colab_link": true
    },
    "kernelspec": {
      "name": "python3",
      "display_name": "Python 3"
    }
  },
  "cells": [
    {
      "cell_type": "markdown",
      "metadata": {
        "id": "view-in-github",
        "colab_type": "text"
      },
      "source": [
        "<a href=\"https://colab.research.google.com/github/smit-r/HWorld/blob/master/Untitled7.ipynb\" target=\"_parent\"><img src=\"https://colab.research.google.com/assets/colab-badge.svg\" alt=\"Open In Colab\"/></a>"
      ]
    },
    {
      "cell_type": "code",
      "metadata": {
        "id": "lx2pEjjNc56J",
        "colab_type": "code",
        "colab": {}
      },
      "source": [
        "import os\n",
        "import numpy as np\n",
        "import cv2\n",
        "from google.colab.patches import cv2_imshow\n",
        "from PIL import Image\n",
        "\n",
        "img = cv2.imread('img_200.png', cv2.IMREAD_UNCHANGED)\n",
        "mask = cv2.imread('img_200.png', cv2.IMREAD_UNCHANGED)\n",
        "\n",
        "print(img.shape)\n",
        "mask = cv2.resize(mask, (480,360), interpolation=cv2.INTER_AREA)\n",
        "mask.shape\n",
        "mask = cv2.cvtColor(mask, cv2.COLOR_GRAY2RGB)\n",
        "comb = cv2.addWeighted(img, 0.5, mask, 0.5, 0)\n",
        "display(Image.fromarray(comb))"
      ],
      "execution_count": 0,
      "outputs": []
    },
    {
      "cell_type": "code",
      "metadata": {
        "id": "esIw-Zyyev5W",
        "colab_type": "code",
        "colab": {}
      },
      "source": [
        "mask = cv2.cvtColor(mask, cv2.COLOR_RGB2GRAY)\n",
        "not_mask = cv2.bitwise_not(mask)\n",
        "\n",
        "mask = np.expand_dims(mask, axis=2)\n",
        "not_mask = np.expand_dims(not_mask, axis=2)\n",
        "\n",
        "im_softmax = np.concatenate([not_mask, mask], axis=2)\n",
        "im_softmax = im_softmax / 255.0\n",
        "print(im_softmax.shape)"
      ],
      "execution_count": 0,
      "outputs": []
    },
    {
      "cell_type": "code",
      "metadata": {
        "id": "ke42J9QseuBz",
        "colab_type": "code",
        "colab": {}
      },
      "source": [
        "n_classes = 2        # mask and not_mask\n",
        "feat_first = im_softmax.transpose((2, 0, 1)).reshape((n_classes,-1))\n",
        "print(feat_first.shape)\n",
        "unary = unary_from_softmax(feat_first)\n",
        "unary = np.ascontiguousarray(unary)  \n",
        "\n",
        "d = dcrf.DenseCRF2D(img.shape[1], img.shape[0], n_classes)\n",
        "\n",
        "d.setUnaryEnergy(unary)\n",
        "d.addPairwiseGaussian(sxy=(5, 5), compat=10, kernel=dcrf.DIAG_KERNEL,\n",
        "                          normalization=dcrf.NORMALIZE_SYMMETRIC)\n",
        "\n",
        "# parameters sxy and srgb can be varied according to our need\n",
        "# srgb is the regularization term for color dependent term and increasing its value focuses more on distance and less on changing color intensity\n",
        "# And vice-versa\n",
        "d.addPairwiseBilateral(sxy=(10, 10), srgb=(13, 13, 13), rgbim=img,\n",
        "                       compat=10,\n",
        "                       kernel=dcrf.DIAG_KERNEL,\n",
        "                       normalization=dcrf.NORMALIZE_SYMMETRIC)\n",
        "Q = d.inference(5)\n",
        "res = np.argmax(Q, axis=0).reshape((img.shape[0], img.shape[1]))\n",
        "print(res.shape)"
      ],
      "execution_count": 0,
      "outputs": []
    },
    {
      "cell_type": "code",
      "metadata": {
        "id": "nslvfuPngggN",
        "colab_type": "code",
        "colab": {}
      },
      "source": [
        "print(np.unique(res))\n",
        "crf_mask = np.array(res*255, np.uint8)\n",
        "display(Image.fromarray(crf_mask))"
      ],
      "execution_count": 0,
      "outputs": []
    },
    {
      "cell_type": "code",
      "metadata": {
        "id": "9qkoCKGPhQ9b",
        "colab_type": "code",
        "colab": {}
      },
      "source": [
        "rgb = cv2.cvtColor(crf_mask, cv2.COLOR_GRAY2RGB)\n",
        "comb_crf = cv2.addWeighted(img, 0.5, rgb, 0.5, 0)\n",
        "display(Image.fromarray(comb_crf))"
      ],
      "execution_count": 0,
      "outputs": []
    },
    {
      "cell_type": "code",
      "metadata": {
        "id": "CBdHgi6vhcMz",
        "colab_type": "code",
        "colab": {}
      },
      "source": [
        "comb_and_crf = np.hstack((comb, comb_crf))\n",
        "display(Image.fromarray(comb_and_crf))"
      ],
      "execution_count": 0,
      "outputs": []
    }
  ]
}